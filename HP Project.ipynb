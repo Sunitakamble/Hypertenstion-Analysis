{
 "cells": [
  {
   "cell_type": "code",
   "execution_count": 1,
   "id": "2eea6e42-f33b-4262-92c3-e6e11307d962",
   "metadata": {},
   "outputs": [
    {
     "name": "stdout",
     "output_type": "stream",
     "text": [
      "Running on local URL:  http://127.0.0.1:7863\n",
      "\n",
      "To create a public link, set `share=True` in `launch()`.\n"
     ]
    },
    {
     "data": {
      "text/html": [
       "<div><iframe src=\"http://127.0.0.1:7863/\" width=\"100%\" height=\"500\" allow=\"autoplay; camera; microphone; clipboard-read; clipboard-write;\" frameborder=\"0\" allowfullscreen></iframe></div>"
      ],
      "text/plain": [
       "<IPython.core.display.HTML object>"
      ]
     },
     "metadata": {},
     "output_type": "display_data"
    },
    {
     "data": {
      "text/plain": []
     },
     "execution_count": 1,
     "metadata": {},
     "output_type": "execute_result"
    }
   ],
   "source": [
    " import gradio as gr\n",
    "# creating a function bp that has systole and \n",
    "# diastole as parameters \n",
    "def bp(systole,diastole): \n",
    "\t\n",
    "# interpreting the systole and diastole values \n",
    "  if((systole<120) and (diastole<80)): \n",
    "    \treturn (\"Normal Blood Pressure\") \n",
    "\n",
    "  elif ((systole>=120 and systole<130) \n",
    "  and (diastole<80)): \n",
    "    \treturn (\"Elevated Blood Pressure\") \n",
    "\n",
    "  elif ((systole>=130 and systole<140) \n",
    "  or (diastole>=80 and diastole<=89)): \n",
    "    \treturn (\"First Stage High Blood Pressure\") \n",
    "\n",
    "  else: \n",
    "    \treturn (\"Second Stage High Blood Pressure\") \n",
    "\n",
    "\n",
    "# creating an interface \n",
    "interface=gr.Interface(fn=bp,inputs=[\"number\",\"number\"], \n",
    "outputs=['text'],title=\"ANALYSIS OF BLOOD PRESSURE\") \n",
    "\n",
    "# launching the interface \n",
    "interface.launch()\n"
   ]
  },
  {
   "cell_type": "code",
   "execution_count": null,
   "id": "8bbecc3b-0404-4745-a5c2-0c1d631332d6",
   "metadata": {},
   "outputs": [],
   "source": []
  }
 ],
 "metadata": {
  "kernelspec": {
   "display_name": "Python 3 (ipykernel)",
   "language": "python",
   "name": "python3"
  },
  "language_info": {
   "codemirror_mode": {
    "name": "ipython",
    "version": 3
   },
   "file_extension": ".py",
   "mimetype": "text/x-python",
   "name": "python",
   "nbconvert_exporter": "python",
   "pygments_lexer": "ipython3",
   "version": "3.11.7"
  }
 },
 "nbformat": 4,
 "nbformat_minor": 5
}
